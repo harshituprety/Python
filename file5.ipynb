{
 "cells": [
  {
   "cell_type": "code",
   "execution_count": 1,
   "id": "fca81cf5",
   "metadata": {},
   "outputs": [
    {
     "name": "stdout",
     "output_type": "stream",
     "text": [
      "hii\n"
     ]
    }
   ],
   "source": [
    "if(not 0):\n",
    "    print('hii')\n",
    "else:\n",
    "    print('byee')"
   ]
  },
  {
   "cell_type": "markdown",
   "id": "775dc879",
   "metadata": {},
   "source": [
    "WAP to find maximum value from three numbers"
   ]
  },
  {
   "cell_type": "code",
   "execution_count": 3,
   "id": "9ca8f349",
   "metadata": {},
   "outputs": [
    {
     "name": "stdout",
     "output_type": "stream",
     "text": [
      "b is greater\n"
     ]
    }
   ],
   "source": [
    "a=int(input(\"Enter a number\"))\n",
    "b=int(input(\"Enter a number\"))\n",
    "c=int(input(\"Enter a number\"))\n",
    "\n",
    "if(a>b & a>c):\n",
    "    print(\"a is greater\")\n",
    "elif(b>a & b>c):\n",
    "    print('b is greater')\n",
    "else:\n",
    "    print(\"c is greater\")"
   ]
  },
  {
   "cell_type": "markdown",
   "id": "25950b94",
   "metadata": {},
   "source": [
    "WAP to generate the result of a student in three subjects using below conditions:\n",
    "----------------------------------------------------------------------------------\n",
    "1.marks should be between 0 to 100 both are inclusive\n",
    "2.Student dail if fail in one, passing marks is 33.\n",
    "3.Also show there result in proper way in 1st, 2nd and 3rd division with total marks and percentage\n",
    "note:- <44% per 3rd division, <60 per 2nd division, >=60 first division"
   ]
  },
  {
   "cell_type": "code",
   "execution_count": null,
   "id": "d0f1001f",
   "metadata": {},
   "outputs": [
    {
     "ename": "TypeError",
     "evalue": "unsupported operand type(s) for |: 'int' and 'float'",
     "output_type": "error",
     "traceback": [
      "\u001b[31m---------------------------------------------------------------------------\u001b[39m",
      "\u001b[31mTypeError\u001b[39m                                 Traceback (most recent call last)",
      "\u001b[36mCell\u001b[39m\u001b[36m \u001b[39m\u001b[32mIn[5]\u001b[39m\u001b[32m, line 6\u001b[39m\n\u001b[32m      4\u001b[39m total_marks = p+c+m\n\u001b[32m      5\u001b[39m per = total_marks/\u001b[32m3\u001b[39m\n\u001b[32m----> \u001b[39m\u001b[32m6\u001b[39m \u001b[38;5;28;01mif\u001b[39;00m(p<\u001b[32;43m0\u001b[39;49m\u001b[43m \u001b[49m\u001b[43m|\u001b[49m\u001b[43m \u001b[49m\u001b[43mc\u001b[49m<\u001b[32m0\u001b[39m | m<\u001b[32m0\u001b[39m | p>\u001b[32m100\u001b[39m | c>\u001b[32m100\u001b[39m | m>\u001b[32m100\u001b[39m):\n\u001b[32m      7\u001b[39m     \u001b[38;5;28mprint\u001b[39m(\u001b[33m\"\u001b[39m\u001b[33mInvalid marks\u001b[39m\u001b[33m\"\u001b[39m)\n\u001b[32m      8\u001b[39m     \u001b[38;5;28mprint\u001b[39m(\u001b[33mf\u001b[39m\u001b[33m'\u001b[39m\u001b[33mphy=\u001b[39m\u001b[38;5;132;01m{\u001b[39;00mp\u001b[38;5;132;01m}\u001b[39;00m\u001b[33m che=\u001b[39m\u001b[38;5;132;01m{\u001b[39;00mc\u001b[38;5;132;01m}\u001b[39;00m\u001b[33m math=\u001b[39m\u001b[38;5;132;01m{\u001b[39;00mm\u001b[38;5;132;01m}\u001b[39;00m\u001b[33m'\u001b[39m)\n",
      "\u001b[31mTypeError\u001b[39m: unsupported operand type(s) for |: 'int' and 'float'"
     ]
    }
   ],
   "source": [
    "p = float(input(\"Enter physics marks\"))\n",
    "c= float(input(\"Enter chemistry marks\"))\n",
    "m= float(input(\"enter maths marks\"))\n",
    "total_marks = p+c+m\n",
    "per = total_marks/3\n",
    "if(p<0 or c<0 or m<0 or p>100 or c>100 or m>100):\n",
    "    print(\"Invalid marks\")\n",
    "    print(f'phy={p} che={c} math={m}')\n",
    "elif((p<33 and c>=33 and m>=33) or (p>=33 and c<33 and m>=33) or (p>=33 and c>=33 and m<33)):\n",
    "    if(p<33 and c>=33 and m>=33):\n",
    "        print(\"Fail in physics\")\n",
    "        print(f\"phy={p} che={c} math={m} total_marks={total_marks} per={per}\")\n",
    "    elif(p>=33 and c<33 and m>=33):\n",
    "        print(\"Fail in chemistry\")\n",
    "        print(f\"phy={p} che={c} math={m} total_marks={total_marks} per={per}\")\n",
    "    elif(p>=33 and c>=33 and m<33):\n",
    "        print(\"Fail in maths\")\n",
    "        print(f\"phy={p} che={c} math={m} total_marks={total_marks} per={per}\")\n",
    "elif(p<33 and c<33 and m<33):\n",
    "    print(\"Fail in all three subjects\")\n",
    "print(f\"phy={p} che={c} math={m} total_marks={total_marks} per={per}\")"
   ]
  }
 ],
 "metadata": {
  "kernelspec": {
   "display_name": "Python 3",
   "language": "python",
   "name": "python3"
  },
  "language_info": {
   "codemirror_mode": {
    "name": "ipython",
    "version": 3
   },
   "file_extension": ".py",
   "mimetype": "text/x-python",
   "name": "python",
   "nbconvert_exporter": "python",
   "pygments_lexer": "ipython3",
   "version": "3.13.8"
  }
 },
 "nbformat": 4,
 "nbformat_minor": 5
}
