{
 "cells": [
  {
   "cell_type": "markdown",
   "id": "e1a5b861",
   "metadata": {},
   "source": [
    "ord:- Its a built in method for string"
   ]
  },
  {
   "cell_type": "code",
   "execution_count": 3,
   "id": "4e06d181",
   "metadata": {},
   "outputs": [
    {
     "name": "stdout",
     "output_type": "stream",
     "text": [
      "-106\n"
     ]
    }
   ],
   "source": [
    "str1 = \"Hello\"\n",
    "str2 = \"Helloj\"\n",
    "sum1 = 0\n",
    "sum2 = 0\n",
    "for j in str1:\n",
    "    sum2=sum2+ord(j)\n",
    "for i in str2:\n",
    "    sum1 = sum1+ord(i)\n",
    "\n",
    "print(sum2-sum1)"
   ]
  },
  {
   "cell_type": "code",
   "execution_count": 7,
   "id": "b26299ef",
   "metadata": {},
   "outputs": [
    {
     "name": "stdout",
     "output_type": "stream",
     "text": [
      "palendrom= 99 character= c\n",
      "palendrom= 101 character= e\n",
      "palendrom= 111 character= o\n",
      "palendrom= 121 character= y\n"
     ]
    }
   ],
   "source": [
    "str1 = \"abcdefghijklmnopqrstuvwxyz\"\n",
    "for i in str1:\n",
    "    temp = ord(i)\n",
    "    n1 = temp\n",
    "    rev =0\n",
    "    while(temp>0):\n",
    "        r=temp%10\n",
    "        rev=rev*10+r\n",
    "        temp=temp//10\n",
    "    if(rev==n1):\n",
    "        print(\"palendrom=\", rev,\"character=\",i)\n"
   ]
  },
  {
   "cell_type": "code",
   "execution_count": 14,
   "id": "bc01e9e1",
   "metadata": {},
   "outputs": [
    {
     "name": "stdout",
     "output_type": "stream",
     "text": [
      "prime number\n",
      "not prime\n",
      "not prime\n",
      "not prime\n",
      "prime number\n",
      "not prime\n",
      "prime number\n",
      "not prime\n",
      "not prime\n",
      "not prime\n",
      "prime number\n",
      "not prime\n",
      "prime number\n",
      "not prime\n",
      "not prime\n",
      "not prime\n",
      "prime number\n",
      "not prime\n",
      "not prime\n",
      "not prime\n",
      "not prime\n",
      "not prime\n",
      "not prime\n",
      "not prime\n",
      "not prime\n",
      "not prime\n"
     ]
    }
   ],
   "source": [
    "str1 = \"abcdefghijklmnopqrstuvwxyz\"\n",
    "for i in str1:\n",
    "    temp=ord(i)\n",
    "    count=0\n",
    "    i=1\n",
    "    while(i<=temp):\n",
    "        if(temp%i==0):\n",
    "            count+=1\n",
    "        i+=1\n",
    "    if(count==2):\n",
    "        print(\"prime number\")\n",
    "    else:\n",
    "        print('not prime')\n"
   ]
  }
 ],
 "metadata": {
  "kernelspec": {
   "display_name": "Python 3",
   "language": "python",
   "name": "python3"
  },
  "language_info": {
   "codemirror_mode": {
    "name": "ipython",
    "version": 3
   },
   "file_extension": ".py",
   "mimetype": "text/x-python",
   "name": "python",
   "nbconvert_exporter": "python",
   "pygments_lexer": "ipython3",
   "version": "3.13.8"
  }
 },
 "nbformat": 4,
 "nbformat_minor": 5
}
