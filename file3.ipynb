{
 "cells": [
  {
   "cell_type": "code",
   "execution_count": 2,
   "id": "f4c0c47d",
   "metadata": {},
   "outputs": [
    {
     "name": "stdout",
     "output_type": "stream",
     "text": [
      "0b1100001\n",
      "0x61\n",
      "0o141\n"
     ]
    }
   ],
   "source": [
    "a=97;\n",
    "print(bin(a))\n",
    "print(hex(a))\n",
    "print(oct(a))"
   ]
  },
  {
   "cell_type": "markdown",
   "id": "3759d411",
   "metadata": {},
   "source": []
  },
  {
   "cell_type": "markdown",
   "id": "127fada0",
   "metadata": {},
   "source": [
    "OPERATORS IN PYTHON:-\n",
    "----------------------\n",
    "1. Arithematic Operators:-\n",
    "---------------------------\n",
    "a. Addition +\n",
    "b. Substraction -\n",
    "c. Multiplication *\n",
    "d. Division /\n",
    "e. Modulus %\n",
    "f. ** a to power b\n",
    "g. floor division //\n",
    "\n",
    "2. Relational Operators:-\n",
    "---------------------------\n",
    "a. > greater than\n",
    "b. < less than\n",
    "c. >= greater than equals to\n",
    "d. <= less than equals to\n",
    "e. == equal equal to\n",
    "d. != not equals to\n",
    "\n",
    "# Note:- Relational operator always return boolean datatype( True or False)"
   ]
  },
  {
   "cell_type": "code",
   "execution_count": null,
   "id": "01d9119b",
   "metadata": {},
   "outputs": [],
   "source": []
  },
  {
   "cell_type": "code",
   "execution_count": 8,
   "id": "ba5edd5b",
   "metadata": {},
   "outputs": [
    {
     "name": "stdout",
     "output_type": "stream",
     "text": [
      "addition = 17\n",
      "substraction = 1\n",
      "multiply =  72\n",
      "division = 1.125\n",
      "Modulus= 1\n",
      "a to power b= 43046721\n"
     ]
    }
   ],
   "source": [
    "a = 9\n",
    "b = 8\n",
    "c = a + b\n",
    "print(\"addition =\", c)\n",
    "c = a - b\n",
    "print(\"substraction =\", c)\n",
    "c = a * b\n",
    "print(\"multiply = \", c)\n",
    "c = a/b\n",
    "print(\"division =\", c)\n",
    "c = a % b\n",
    "print('Modulus=', c)\n",
    "c = a**b\n",
    "print(\"a to power b=\", c)"
   ]
  },
  {
   "cell_type": "code",
   "execution_count": 11,
   "id": "c478484a",
   "metadata": {},
   "outputs": [
    {
     "name": "stdout",
     "output_type": "stream",
     "text": [
      "1\n",
      "True\n",
      "False\n",
      "False\n",
      "True\n",
      "True\n"
     ]
    }
   ],
   "source": [
    "a = 39\n",
    "b =20\n",
    "c = a>b\n",
    "print(int(c))\n",
    "c = a >=b\n",
    "print(c)\n",
    "c = a<b\n",
    "print(c)\n",
    "c = a <=b\n",
    "print(c)\n",
    "c = a>=b\n",
    "print(c)\n",
    "c = a!=b\n",
    "print(c)"
   ]
  },
  {
   "cell_type": "code",
   "execution_count": 10,
   "id": "955bb9df",
   "metadata": {},
   "outputs": [
    {
     "name": "stdout",
     "output_type": "stream",
     "text": [
      "40\n",
      "8.0\n",
      "-1.0\n",
      "-4.0\n",
      "4.0\n"
     ]
    }
   ],
   "source": [
    "a = 30\n",
    "a +=10\n",
    "print(a)\n",
    "a/=5\n",
    "print(a)\n",
    "a -= 9\n",
    "print(a)\n",
    "a *=4\n",
    "print(a)\n",
    "a %=8\n",
    "print(a)\n"
   ]
  },
  {
   "cell_type": "markdown",
   "id": "c0bfb2f1",
   "metadata": {},
   "source": [
    "Conditional statements:-\n",
    "-----------------------------\n",
    "if-else and elif"
   ]
  },
  {
   "cell_type": "code",
   "execution_count": 1,
   "id": "683d9425",
   "metadata": {},
   "outputs": [
    {
     "name": "stdout",
     "output_type": "stream",
     "text": [
      "if block\n"
     ]
    }
   ],
   "source": [
    "if(123):\n",
    "    print(\"if block\")\n",
    "else:\n",
    "    print(\"else block\")"
   ]
  },
  {
   "cell_type": "code",
   "execution_count": 4,
   "id": "4ced0721",
   "metadata": {},
   "outputs": [
    {
     "name": "stdout",
     "output_type": "stream",
     "text": [
      "True\n",
      "124\n"
     ]
    }
   ],
   "source": [
    "x=123\n",
    "print(bool(x))\n",
    "x=124\n",
    "print(x)"
   ]
  },
  {
   "cell_type": "markdown",
   "id": "3a184307",
   "metadata": {},
   "source": [
    "How to take input from user in runtime:-\n",
    "-------------------------------\n",
    "pre-defined input() method."
   ]
  },
  {
   "cell_type": "code",
   "execution_count": 7,
   "id": "b76bbcba",
   "metadata": {},
   "outputs": [
    {
     "name": "stdout",
     "output_type": "stream",
     "text": [
      "74\n",
      "<class 'int'>\n"
     ]
    }
   ],
   "source": [
    "x=int(input(\"Enter the value of x:\"))\n",
    "y=int(input(\"Enter the value of y:\"))\n",
    "print(x+y)\n",
    "print(type(x))"
   ]
  }
 ],
 "metadata": {
  "kernelspec": {
   "display_name": "Python 3",
   "language": "python",
   "name": "python3"
  },
  "language_info": {
   "codemirror_mode": {
    "name": "ipython",
    "version": 3
   },
   "file_extension": ".py",
   "mimetype": "text/x-python",
   "name": "python",
   "nbconvert_exporter": "python",
   "pygments_lexer": "ipython3",
   "version": "3.13.7"
  }
 },
 "nbformat": 4,
 "nbformat_minor": 5
}
