{
 "cells": [
  {
   "cell_type": "markdown",
   "id": "f2418bde",
   "metadata": {},
   "source": [
    "bin():- method to convert to binary\n",
    "By default we write in base10 decimal"
   ]
  },
  {
   "cell_type": "code",
   "execution_count": 5,
   "id": "0bec06e2",
   "metadata": {},
   "outputs": [
    {
     "name": "stdout",
     "output_type": "stream",
     "text": [
      "0b100111\n",
      "15\n",
      "593\n",
      "0o1121\n",
      "3484355\n"
     ]
    }
   ],
   "source": [
    "a = 39\n",
    "print(bin(a))\n",
    "x=0b1111\n",
    "print(x)\n",
    "x=0o1121\n",
    "print(x)\n",
    "x=593\n",
    "print(oct(x))\n",
    "x=0x352ac3\n",
    "print(x)"
   ]
  },
  {
   "cell_type": "code",
   "execution_count": null,
   "id": "1b7cf04a",
   "metadata": {},
   "outputs": [],
   "source": []
  }
 ],
 "metadata": {
  "kernelspec": {
   "display_name": "Python 3",
   "language": "python",
   "name": "python3"
  },
  "language_info": {
   "codemirror_mode": {
    "name": "ipython",
    "version": 3
   },
   "file_extension": ".py",
   "mimetype": "text/x-python",
   "name": "python",
   "nbconvert_exporter": "python",
   "pygments_lexer": "ipython3",
   "version": "3.13.8"
  }
 },
 "nbformat": 4,
 "nbformat_minor": 5
}
