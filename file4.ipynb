{
 "cells": [
  {
   "cell_type": "code",
   "execution_count": 3,
   "id": "5c383234",
   "metadata": {},
   "outputs": [
    {
     "name": "stdout",
     "output_type": "stream",
     "text": [
      "user can vote\n",
      "<class 'int'>\n"
     ]
    }
   ],
   "source": [
    "age = int(input('Enter your age'))\n",
    "if(age>18):\n",
    "    print(\"user can vote\")\n",
    "elif(age == 18):\n",
    "    print('User can also vote')\n",
    "else:\n",
    "    print('User cannot vote')\n",
    "\n",
    "print(type(age))"
   ]
  },
  {
   "cell_type": "markdown",
   "id": "69cc8074",
   "metadata": {},
   "source": [
    "write a program to find user can be eligibale for voting or not\n",
    "wap to show a week of a day if value is 0 is sunday"
   ]
  },
  {
   "cell_type": "code",
   "execution_count": null,
   "id": "2904c47e",
   "metadata": {},
   "outputs": [
    {
     "name": "stdout",
     "output_type": "stream",
     "text": [
      "Thursday\n"
     ]
    }
   ],
   "source": [
    "day = int(input('enter your day in 0-6'))\n",
    "if(day == 0):\n",
    "    print('Sunday')\n",
    "elif(day == 1):\n",
    "    print('Monday')\n",
    "elif(day == 2):\n",
    "    print('Tuesday')\n",
    "elif(day == 3):\n",
    "    print('Wednesday')\n",
    "elif(day == 4):\n",
    "    print('Thursday')\n",
    "elif(day == 5):\n",
    "    print('Friday')\n",
    "elif(day == 6):\n",
    "    print('saturday')\n",
    "else:\n",
    "    print(\"Can't find your day\")\n"
   ]
  },
  {
   "cell_type": "markdown",
   "id": "d9f5b43f",
   "metadata": {},
   "source": [
    "Logical operators:-\n",
    "-------------------\n",
    "1.Logical  AND operator(and)\n",
    "2. Logical or operator(or)\n",
    "3. Logical not operator(not)\n",
    "--------------------------------------------------------------\n",
    "condn1                condn2                    cond1 & condn2                     cond1 or cond2\n",
    "-------------------------------------------------------------------------------------------------\n",
    "True                   True                        True                                True\n",
    "False                  True                        False                               True\n",
    "True                   False                       False                               True\n",
    "False                  False                       False                               False\n",
    "-------------------------------------------------------------------------------------------------\n",
    "Not operator(not):-\n",
    "-------------------\n"
   ]
  },
  {
   "cell_type": "code",
   "execution_count": null,
   "id": "4476c828",
   "metadata": {},
   "outputs": [],
   "source": []
  }
 ],
 "metadata": {
  "kernelspec": {
   "display_name": "Python 3",
   "language": "python",
   "name": "python3"
  },
  "language_info": {
   "codemirror_mode": {
    "name": "ipython",
    "version": 3
   },
   "file_extension": ".py",
   "mimetype": "text/x-python",
   "name": "python",
   "nbconvert_exporter": "python",
   "pygments_lexer": "ipython3",
   "version": "3.13.7"
  }
 },
 "nbformat": 4,
 "nbformat_minor": 5
}
