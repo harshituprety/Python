{
 "cells": [
  {
   "cell_type": "markdown",
   "id": "2054a153",
   "metadata": {},
   "source": [
    "Control structure Statement:-\n",
    "-------------------------------\n",
    "Loop:-\n",
    "1. While Loop:- When condition is not given but intialization and updation are given\n",
    "2. For Loop:- When Condition,intialization and updation is given\n"
   ]
  },
  {
   "cell_type": "code",
   "execution_count": 5,
   "id": "ae4dceb3",
   "metadata": {},
   "outputs": [
    {
     "name": "stdout",
     "output_type": "stream",
     "text": [
      "My name is harshit Uprety\n",
      "My name is harshit Uprety\n",
      "My name is harshit Uprety\n",
      "My name is harshit Uprety\n",
      "My name is harshit Uprety\n",
      "My name is harshit Uprety\n",
      "My name is harshit Uprety\n",
      "My name is harshit Uprety\n",
      "My name is harshit Uprety\n",
      "My name is harshit Uprety\n",
      "the value of a = 11\n"
     ]
    }
   ],
   "source": [
    "a=1;\n",
    "while(a<=10):\n",
    "    print(\"My name is harshit Uprety\")\n",
    "    a+=1\n",
    "print(f\"the value of a = {a}\")"
   ]
  },
  {
   "cell_type": "markdown",
   "id": "9d2580d8",
   "metadata": {},
   "source": []
  },
  {
   "cell_type": "code",
   "execution_count": 7,
   "id": "f7caaf33",
   "metadata": {},
   "outputs": [
    {
     "name": "stdout",
     "output_type": "stream",
     "text": [
      "Sum of n natural number=21\n"
     ]
    }
   ],
   "source": [
    "n=int(input('Enter a number'))\n",
    "i=1\n",
    "ans=0\n",
    "while(i<=n):\n",
    "    ans+=i\n",
    "    i+=1\n",
    "print(f\"Sum of n natural number={ans}\")"
   ]
  },
  {
   "cell_type": "code",
   "execution_count": 9,
   "id": "8cc7f006",
   "metadata": {},
   "outputs": [
    {
     "name": "stdout",
     "output_type": "stream",
     "text": [
      "factorial of n natural number=3628800\n"
     ]
    }
   ],
   "source": [
    "n=int(input('Enter a number'))\n",
    "i=1\n",
    "ans=1\n",
    "while(i<=n):\n",
    "    ans*=i\n",
    "    i+=1\n",
    "print(f\"factorial of n natural number={ans}\")"
   ]
  },
  {
   "cell_type": "code",
   "execution_count": 1,
   "id": "e224ef5e",
   "metadata": {},
   "outputs": [
    {
     "name": "stdout",
     "output_type": "stream",
     "text": [
      "50 * 4 = 200\n",
      "50 * 5 = 250\n",
      "50 * 6 = 300\n",
      "50 * 7 = 350\n",
      "50 * 8 = 400\n",
      "50 * 9 = 450\n",
      "50 * 10 = 500\n",
      "50 * 11 = 550\n",
      "50 * 12 = 600\n",
      "50 * 13 = 650\n",
      "50 * 14 = 700\n",
      "50 * 15 = 750\n",
      "50 * 16 = 800\n",
      "50 * 17 = 850\n",
      "50 * 18 = 900\n",
      "50 * 19 = 950\n",
      "50 * 20 = 1000\n",
      "50 * 21 = 1050\n",
      "50 * 22 = 1100\n",
      "50 * 23 = 1150\n",
      "50 * 24 = 1200\n",
      "50 * 25 = 1250\n",
      "50 * 26 = 1300\n",
      "50 * 27 = 1350\n",
      "50 * 28 = 1400\n",
      "50 * 29 = 1450\n",
      "50 * 30 = 1500\n",
      "50 * 31 = 1550\n",
      "50 * 32 = 1600\n",
      "50 * 33 = 1650\n",
      "50 * 34 = 1700\n",
      "50 * 35 = 1750\n",
      "50 * 36 = 1800\n",
      "50 * 37 = 1850\n",
      "50 * 38 = 1900\n",
      "50 * 39 = 1950\n",
      "50 * 40 = 2000\n",
      "50 * 41 = 2050\n",
      "50 * 42 = 2100\n",
      "50 * 43 = 2150\n",
      "50 * 44 = 2200\n",
      "50 * 45 = 2250\n",
      "50 * 46 = 2300\n",
      "50 * 47 = 2350\n",
      "50 * 48 = 2400\n",
      "50 * 49 = 2450\n",
      "50 * 50 = 2500\n",
      "50 * 51 = 2550\n",
      "50 * 52 = 2600\n",
      "50 * 53 = 2650\n",
      "50 * 54 = 2700\n",
      "50 * 55 = 2750\n",
      "50 * 56 = 2800\n",
      "50 * 57 = 2850\n",
      "50 * 58 = 2900\n",
      "50 * 59 = 2950\n",
      "50 * 60 = 3000\n",
      "50 * 61 = 3050\n",
      "50 * 62 = 3100\n",
      "50 * 63 = 3150\n",
      "50 * 64 = 3200\n",
      "50 * 65 = 3250\n",
      "50 * 66 = 3300\n",
      "50 * 67 = 3350\n",
      "50 * 68 = 3400\n",
      "50 * 69 = 3450\n",
      "50 * 70 = 3500\n",
      "50 * 71 = 3550\n",
      "50 * 72 = 3600\n",
      "50 * 73 = 3650\n",
      "50 * 74 = 3700\n",
      "50 * 75 = 3750\n",
      "50 * 76 = 3800\n",
      "50 * 77 = 3850\n",
      "50 * 78 = 3900\n",
      "50 * 79 = 3950\n",
      "50 * 80 = 4000\n",
      "50 * 81 = 4050\n",
      "50 * 82 = 4100\n",
      "50 * 83 = 4150\n",
      "50 * 84 = 4200\n",
      "50 * 85 = 4250\n",
      "50 * 86 = 4300\n",
      "50 * 87 = 4350\n",
      "50 * 88 = 4400\n",
      "50 * 89 = 4450\n",
      "50 * 90 = 4500\n",
      "50 * 91 = 4550\n",
      "50 * 92 = 4600\n",
      "50 * 93 = 4650\n",
      "50 * 94 = 4700\n",
      "50 * 95 = 4750\n",
      "50 * 96 = 4800\n",
      "50 * 97 = 4850\n",
      "50 * 98 = 4900\n",
      "50 * 99 = 4950\n",
      "50 * 100 = 5000\n"
     ]
    }
   ],
   "source": [
    "n=int(input(\"enter a number\"))\n",
    "i=4\n",
    "while(i<=100):\n",
    "    print(f\"{n} * {i} = {n * i}\")\n",
    "    i+=1"
   ]
  },
  {
   "cell_type": "code",
   "execution_count": 2,
   "id": "88b33e3c",
   "metadata": {},
   "outputs": [],
   "source": [
    "n = int(input('Enter a number'))\n",
    "count=0\n",
    "i=1\n",
    "while(n<=i):\n",
    "    if(n%i==0):\n",
    "        count+=1\n",
    "        i+=1\n",
    "    if(count==2):\n",
    "        print(\"prime number\")\n",
    "    else:\n",
    "        print('not prime')"
   ]
  },
  {
   "cell_type": "code",
   "execution_count": 11,
   "id": "1821757e",
   "metadata": {},
   "outputs": [
    {
     "name": "stdout",
     "output_type": "stream",
     "text": [
      "0\n",
      "1\n",
      "1\n",
      "2\n",
      "3\n",
      "5\n",
      "8\n",
      "13\n",
      "21\n",
      "34\n",
      "55\n",
      "89\n",
      "144\n",
      "233\n",
      "377\n",
      "610\n",
      "987\n",
      "1597\n",
      "2584\n",
      "4181\n"
     ]
    }
   ],
   "source": [
    "n=int(input(\"Enter a number:\"))\n",
    "i=1\n",
    "a=-1\n",
    "b=1\n",
    "while(i<=n):\n",
    "    c=a+b\n",
    "    print(c)\n",
    "    a=b\n",
    "    b=c\n",
    "    i+=1\n",
    "    "
   ]
  },
  {
   "cell_type": "markdown",
   "id": "3ade4d88",
   "metadata": {},
   "source": [
    "WAP to reverse a number"
   ]
  },
  {
   "cell_type": "code",
   "execution_count": 4,
   "id": "b2b7d2a5",
   "metadata": {},
   "outputs": [
    {
     "ename": "ValueError",
     "evalue": "invalid literal for int() with base 10: 'mom'",
     "output_type": "error",
     "traceback": [
      "\u001b[31m---------------------------------------------------------------------------\u001b[39m",
      "\u001b[31mValueError\u001b[39m                                Traceback (most recent call last)",
      "\u001b[36mCell\u001b[39m\u001b[36m \u001b[39m\u001b[32mIn[4]\u001b[39m\u001b[32m, line 1\u001b[39m\n\u001b[32m----> \u001b[39m\u001b[32m1\u001b[39m n=\u001b[38;5;28;43mint\u001b[39;49m\u001b[43m(\u001b[49m\u001b[38;5;28;43minput\u001b[39;49m\u001b[43m(\u001b[49m\u001b[33;43m\"\u001b[39;49m\u001b[33;43mEnter a number:\u001b[39;49m\u001b[33;43m\"\u001b[39;49m\u001b[43m)\u001b[49m\u001b[43m)\u001b[49m\n\u001b[32m      2\u001b[39m i=\u001b[32m0\u001b[39m\n\u001b[32m      3\u001b[39m \u001b[38;5;28;01mif\u001b[39;00m(n<=\u001b[32m0\u001b[39m):\n",
      "\u001b[31mValueError\u001b[39m: invalid literal for int() with base 10: 'mom'"
     ]
    }
   ],
   "source": [
    "n=int(input(\"Enter a number:\"))\n",
    "i=0\n",
    "if(n<=0):\n",
    "    print(\"please enter a positive number\")\n",
    "while(n>0):\n",
    "    a = n % 10\n",
    "    i = i*10+a\n",
    "    n = n // 10\n",
    "print(\"reverse=\",i)"
   ]
  },
  {
   "cell_type": "markdown",
   "id": "18163465",
   "metadata": {},
   "source": [
    "WAP to make a palendrome number"
   ]
  },
  {
   "cell_type": "code",
   "execution_count": null,
   "id": "5db42052",
   "metadata": {},
   "outputs": [],
   "source": [
    "n = int(input(\"enter a palendrome:\"))\n",
    "i = 0\n",
    "m=n\n",
    "if(n<=0):\n",
    "    print(\"enter a valid input\")\n",
    "else:\n",
    "    while(n>0):\n",
    "        a = n %10\n",
    "        i = i*10+a\n",
    "        n = n //10\n",
    "if(m==i):\n",
    "    print(f\"palendrom={i}\")\n",
    "else:\n",
    "    print(f\"palendrom={i}\")"
   ]
  },
  {
   "cell_type": "markdown",
   "id": "3b49b790",
   "metadata": {},
   "source": [
    "WAP for armstrong number"
   ]
  },
  {
   "cell_type": "code",
   "execution_count": null,
   "id": "33261769",
   "metadata": {},
   "outputs": [],
   "source": []
  },
  {
   "cell_type": "markdown",
   "id": "27eb802b",
   "metadata": {},
   "source": [
    "length method - tells length of the characters"
   ]
  },
  {
   "cell_type": "code",
   "execution_count": 9,
   "id": "229e52d1",
   "metadata": {},
   "outputs": [
    {
     "name": "stdout",
     "output_type": "stream",
     "text": [
      "not armstrong\n"
     ]
    }
   ],
   "source": [
    "n = input('Enter a number')\n",
    "x=len(n)\n",
    "n1 = int(n)\n",
    "m=n1\n",
    "ans=0\n",
    "if(n1<=0):\n",
    "    print(f\"invalid number\")\n",
    "else:\n",
    "   while(n1>0):\n",
    "    r=n1%10\n",
    "    ans = ans +r**x\n",
    "    n1=n1//10\n",
    "if(ans==m):\n",
    "    print(f\"Armstrong number\")\n",
    "else:\n",
    "    print(\"not armstrong\")\n"
   ]
  },
  {
   "cell_type": "markdown",
   "id": "a0860560",
   "metadata": {},
   "source": [
    "nested while loop:-\n",
    "----------------------\n",
    "When we execute a while loop inside another while loop is called nested while loop"
   ]
  },
  {
   "cell_type": "code",
   "execution_count": 2,
   "id": "f8d45253",
   "metadata": {},
   "outputs": [
    {
     "name": "stdout",
     "output_type": "stream",
     "text": [
      "****\n",
      "****\n",
      "****\n",
      "****\n",
      "****\n"
     ]
    }
   ],
   "source": [
    "i=1\n",
    "while(i<=5):\n",
    "\n",
    "    j=1\n",
    "    while(j<=4):\n",
    "        print(\"*\",end=\"\")\n",
    "        j+=1\n",
    "    i+=1\n",
    "    print()"
   ]
  },
  {
   "cell_type": "markdown",
   "id": "4c943526",
   "metadata": {},
   "source": [
    "WAP to take 2 input from user after the input of second find all the palendrome number of first input digit"
   ]
  },
  {
   "cell_type": "code",
   "execution_count": null,
   "id": "10394129",
   "metadata": {},
   "outputs": [
    {
     "name": "stdout",
     "output_type": "stream",
     "text": [
      "101\n",
      "111\n",
      "121\n"
     ]
    }
   ],
   "source": [
    "n1 =int(input('Enter a number'))\n",
    "n2=100\n",
    "n3=n2+1\n",
    "i=1\n",
    "while(i<=n1):\n",
    "    temp=n3\n",
    "    ans=0\n",
    "    while(temp>0):\n",
    "        r=temp%10\n",
    "        ans=ans*10+r\n",
    "        temp=temp//10\n",
    "    if(ans==n3):\n",
    "        print(ans)\n",
    "        i+=1\n",
    "    n3+=1"
   ]
  },
  {
   "cell_type": "code",
   "execution_count": 14,
   "id": "ece7d20c",
   "metadata": {},
   "outputs": [
    {
     "name": "stdout",
     "output_type": "stream",
     "text": [
      "prime= 7\n",
      "prime= 11\n",
      "prime= 13\n",
      "prime= 17\n",
      "prime= 19\n",
      "prime= 23\n",
      "prime= 29\n",
      "prime= 31\n",
      "prime= 37\n",
      "prime= 41\n",
      "prime= 43\n",
      "prime= 47\n",
      "prime= 53\n",
      "prime= 59\n",
      "prime= 61\n",
      "prime= 67\n",
      "prime= 71\n",
      "prime= 73\n",
      "prime= 79\n",
      "prime= 83\n",
      "prime= 89\n"
     ]
    }
   ],
   "source": [
    "n1 = int(input(\"Enter a number\"))\n",
    "n2 = int(input(\"enter a number\"))\n",
    "i=n1+1\n",
    "while(i<n2):\n",
    "    j=1\n",
    "    count=0\n",
    "    while(j<=i):\n",
    "        if(i%j==0):\n",
    "            count+=1\n",
    "        j+=1\n",
    "    if(count==2):\n",
    "        print(\"prime=\",i)\n",
    "    i+=1"
   ]
  },
  {
   "cell_type": "markdown",
   "id": "20178345",
   "metadata": {},
   "source": [
    "STRING & FOR LOOPS:-\n",
    "-------------------------\n",
    "String is a collection of characters\n"
   ]
  },
  {
   "cell_type": "code",
   "execution_count": null,
   "id": "657cec5b",
   "metadata": {},
   "outputs": [
    {
     "name": "stdout",
     "output_type": "stream",
     "text": [
      "<class 'type'>\n"
     ]
    }
   ],
   "source": [
    "str1 = 'hello'\n",
    "print(type(str))\n",
    "str2 = \"Hi, How are you?\"\n",
    "print(str2)\n",
    "str3 ='''\n",
    "hhwiudhwuhd\n",
    "jwojdowjd\n",
    "'''\n",
    "\n"
   ]
  },
  {
   "cell_type": "code",
   "execution_count": 3,
   "id": "303395f5",
   "metadata": {},
   "outputs": [
    {
     "name": "stdout",
     "output_type": "stream",
     "text": [
      "w\n",
      "7\n",
      "e\n"
     ]
    }
   ],
   "source": [
    "str1='welcome'\n",
    "print(str1[0])\n",
    "print(len(str1))\n",
    "x=len(str1)\n",
    "print(str1[x-1])"
   ]
  },
  {
   "cell_type": "markdown",
   "id": "a550dde9",
   "metadata": {},
   "source": [
    "**SLICE**:-\n",
    "Slice(start,stop,step)\n",
    "The slice() function returns a slice object that is used to slice any sequence (string, tuple, list, range, or bytes)."
   ]
  },
  {
   "cell_type": "code",
   "execution_count": 8,
   "id": "8ed31378",
   "metadata": {},
   "outputs": [
    {
     "name": "stdout",
     "output_type": "stream",
     "text": [
      "7\n",
      "278\n",
      "2\n",
      "12287276\n"
     ]
    }
   ],
   "source": [
    "str1=str(67278221)\n",
    "print(str1[-7])\n",
    "print(str1[2:5])\n",
    "print(str1[2:4:2])\n",
    "print(str1[::-1])"
   ]
  },
  {
   "cell_type": "code",
   "execution_count": null,
   "id": "6e948af5",
   "metadata": {},
   "outputs": [],
   "source": [
    "str1=\"hello\"\n",
    "str2='Indore'\n",
    "str3=str1+ \" \"+str2\n",
    "print(str3)\n"
   ]
  },
  {
   "cell_type": "code",
   "execution_count": null,
   "id": "82446269",
   "metadata": {},
   "outputs": [],
   "source": [
    "x=\"Welcome\"\n",
    "y=x.capitalize()\n",
    "print(y)\n",
    "print(x.upper())\n",
    "print(x.lower())"
   ]
  },
  {
   "cell_type": "markdown",
   "id": "8f06590f",
   "metadata": {},
   "source": []
  },
  {
   "cell_type": "markdown",
   "id": "8203b340",
   "metadata": {},
   "source": [
    "For Loops:-\n",
    "---------------------\n",
    "1. For-in loop: in is a member operator\n",
    "2. For i in range (initialization, condition,updation)"
   ]
  },
  {
   "cell_type": "code",
   "execution_count": 1,
   "id": "58fff04c",
   "metadata": {},
   "outputs": [
    {
     "name": "stdout",
     "output_type": "stream",
     "text": [
      "H\n",
      "e\n",
      "l\n",
      "l\n",
      "o\n"
     ]
    }
   ],
   "source": [
    "str1=\"Hello\"\n",
    "x=len(str1)\n",
    "for i in range(x):\n",
    "    print(str1[i])"
   ]
  },
  {
   "cell_type": "code",
   "execution_count": 13,
   "id": "ae79224c",
   "metadata": {},
   "outputs": [
    {
     "name": "stdout",
     "output_type": "stream",
     "text": [
      "olleh \n"
     ]
    }
   ],
   "source": [
    "str1=\"hello\"\n",
    "rev=\" \"\n",
    "x=len(str1)\n",
    "for i in range(x):\n",
    "    rev = str1[i] + rev\n",
    "print(rev)"
   ]
  },
  {
   "cell_type": "code",
   "execution_count": 16,
   "id": "f41a97ac",
   "metadata": {},
   "outputs": [
    {
     "name": "stdout",
     "output_type": "stream",
     "text": [
      "consonent=w\n",
      "vowels=e\n",
      "consonent=l\n",
      "consonent=c\n",
      "consonent=o\n",
      "consonent=m\n",
      "vowels=e\n"
     ]
    }
   ],
   "source": [
    "str1 = 'Welcome'\n",
    "v=str1.lower()\n",
    "for i in v:\n",
    "    if(i == \"e\" or i == \"a\" or i == \"i\" or i == \"u\"):\n",
    "        print(f\"vowels={i}\")\n",
    "    else:\n",
    "        print(f\"consonent={i}\")"
   ]
  },
  {
   "cell_type": "code",
   "execution_count": 14,
   "id": "71cec3f2",
   "metadata": {},
   "outputs": [
    {
     "name": "stdout",
     "output_type": "stream",
     "text": [
      "w\n",
      "e\n",
      "l\n",
      "c\n",
      "o\n",
      "m\n",
      "e\n"
     ]
    }
   ],
   "source": [
    "s=\"welcome\"\n",
    "for i in s:\n",
    "    print(i)"
   ]
  }
 ],
 "metadata": {
  "kernelspec": {
   "display_name": "Python 3",
   "language": "python",
   "name": "python3"
  },
  "language_info": {
   "codemirror_mode": {
    "name": "ipython",
    "version": 3
   },
   "file_extension": ".py",
   "mimetype": "text/x-python",
   "name": "python",
   "nbconvert_exporter": "python",
   "pygments_lexer": "ipython3",
   "version": "3.13.8"
  }
 },
 "nbformat": 4,
 "nbformat_minor": 5
}
